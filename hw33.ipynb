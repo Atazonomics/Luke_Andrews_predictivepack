{
 "cells": [
  {
   "cell_type": "code",
   "execution_count": 31,
   "metadata": {},
   "outputs": [
    {
     "name": "stdout",
     "output_type": "stream",
     "text": [
      "3\n"
     ]
    }
   ],
   "source": [
    "############################################################################\n",
    "## Try to use map and reduce in the next 3 exercises\n",
    "# 1)\n",
    "# Create a function called \"count_simba\" that counts\n",
    "# the number of times that Simba appears in a list of\n",
    "# strings. Example: \n",
    "# [\"Simba and Nala are lions.\", \"I laugh in the face of danger.\",\n",
    "#  \"Hakuna matata\", \"Timon, Pumba and Simba are friends, but Simba could eat the other two.\"] \n",
    "#\n",
    "\n",
    "def count_simba(list_string):\n",
    "    count = 0\n",
    "    for s in list_string:\n",
    "        count += s.lower().count(\"simba\")\n",
    "    return count\n",
    "\n",
    "##example :\n",
    "data_strings = [\"Simba and Nala are lions.\", \n",
    "        \"I laugh in the face of danger.\",\n",
    "        \"Hakuna matata\", \n",
    "        \"Timon, Pumba and Simba are friends, but Simba could eat the other two.\"]\n",
    "\n",
    "result = count_simba(data_strings)\n",
    "print(result)\n"
   ]
  },
  {
   "cell_type": "code",
   "execution_count": 32,
   "metadata": {},
   "outputs": [
    {
     "name": "stdout",
     "output_type": "stream",
     "text": [
      "   day  month  year\n",
      "0   10      2  2021\n",
      "1   30      3  2022\n",
      "2   17     10  2023\n"
     ]
    }
   ],
   "source": [
    "###########################################################\n",
    "# 2)\n",
    "# Create a function called \"get_day_month_year\" that takes \n",
    "# a list of datetimes.date and returns a pandas dataframe\n",
    "# with 3 columns (day, month, year) in which each of the rows\n",
    "# is an element of the input list and has as value its \n",
    "# day, month, and year.\n",
    "# \n",
    "\n",
    "#import pandas & datetime\n",
    "import pandas as pd\n",
    "import datetime\n",
    "\n",
    "def get_day_month_year(dates_list):\n",
    "    \n",
    "# Extract Day, Month, Year from each Date\n",
    "\n",
    "    day = [date.day for date in dates_list]\n",
    "    month = [date.month for date in dates_list]\n",
    "    year = [date.year for date in dates_list]\n",
    "    \n",
    "    # DataFrame\n",
    "    df = pd.DataFrame({\n",
    "        'day': day,\n",
    "        'month': month,\n",
    "        'year': year\n",
    "    })\n",
    "    \n",
    "    return df\n",
    "#%%\n",
    "#Example \n",
    "dates = [datetime.date(2021, 2, 10), \n",
    "         datetime.date(2022, 3, 30), \n",
    "         datetime.date(2023, 10, 17)]\n",
    "\n",
    "df_result = get_day_month_year(dates)\n",
    "print(df_result)\n"
   ]
  },
  {
   "cell_type": "code",
   "execution_count": 33,
   "metadata": {},
   "outputs": [
    {
     "name": "stdout",
     "output_type": "stream",
     "text": [
      "Distance Between the Two Pairs: [31.131865222052042, 157.005827868894]\n"
     ]
    }
   ],
   "source": [
    "#######################################################################\n",
    "# 3) \n",
    "# Create a function called \"compute_distance\" that takes\n",
    "# a list of tuple pairs with latitude and longitude coordinates and \n",
    "# returns a list with the distance between the two pairs\n",
    "# example input: [((41.23,23.5), (41.5, 23.4)), ((52.38, 20.1),(52.3, 17.8))]\n",
    "# HINT: You can use geopy.distance in order to compute the distance\n",
    "#\n",
    "\n",
    "##Import packages \n",
    "from geopy.distance import geodesic\n",
    "\n",
    "def compute_distance(coords_list):\n",
    "    distances = []\n",
    "    \n",
    "    for coords_pair in coords_list:\n",
    "# Calculate Distance per Each Pair of Coordinates(geodesic)\n",
    "        distance = geodesic(coords_pair[0], coords_pair[1]).kilometers\n",
    "        distances.append(distance)\n",
    "    \n",
    "    return distances\n",
    "\n",
    "#Example \n",
    "\n",
    "coordinates = [((41.23,23.5), (41.5, 23.4)), \n",
    "               ((52.38, 20.1),(52.3, 17.8))]\n",
    "\n",
    "distances_result = compute_distance(coordinates)\n",
    "print(\"Distance Between the Two Pairs:\", distances_result)\n",
    "\n"
   ]
  },
  {
   "cell_type": "code",
   "execution_count": 35,
   "metadata": {},
   "outputs": [
    {
     "name": "stdout",
     "output_type": "stream",
     "text": [
      "13\n"
     ]
    }
   ],
   "source": [
    "#################################################\n",
    "# 4)\n",
    "# Consider a list that each element can be an integer or\n",
    "# a list that contains integers or more lists with integers\n",
    "# example: [[2], 4, 5, [1, [2], [3, 5, [7,8]], 10], 1]. \n",
    "# create a recursive function called \"sum_general_int_list\"\n",
    "# that takes as input this type of list \n",
    "# and returns the sum of all the integers within the lists\n",
    "# for instance for list_1=[[2], 3, [[1,2],5]] \n",
    "# the result should be 13\n",
    "#\n",
    "\n",
    "def sum_general_int_list(lst):\n",
    "    # Base case: If the list is empty, return 0\n",
    "    if not lst:\n",
    "        return 0\n",
    "    \n",
    "    # If the first element is an integer, add it to the sum of the rest of the list\n",
    "    if isinstance(lst[0], int):\n",
    "        return lst[0] + sum_general_int_list(lst[1:])\n",
    "    \n",
    "    # If the first element is a list, add its sum to the sum of the rest of the list\n",
    "    return sum_general_int_list(lst[0]) + sum_general_int_list(lst[1:])\n",
    "\n",
    "# Example \n",
    "list_1 = [[2], 3, [[1,2],5]]\n",
    "print(sum_general_int_list(list_1))  # Outputs: 13\n"
   ]
  },
  {
   "cell_type": "code",
   "execution_count": 30,
   "metadata": {},
   "outputs": [
    {
     "name": "stdout",
     "output_type": "stream",
     "text": [
      "Requirement already satisfied: geopy in c:\\users\\mr. luke\\anacoda\\lib\\site-packages (2.4.0)\n",
      "Requirement already satisfied: geographiclib<3,>=1.52 in c:\\users\\mr. luke\\anacoda\\lib\\site-packages (from geopy) (2.0)\n",
      "Note: you may need to restart the kernel to use updated packages.\n"
     ]
    }
   ],
   "source": [
    "%pip install geopy\n"
   ]
  }
 ],
 "metadata": {
  "kernelspec": {
   "display_name": "Python 3",
   "language": "python",
   "name": "python3"
  },
  "language_info": {
   "codemirror_mode": {
    "name": "ipython",
    "version": 3
   },
   "file_extension": ".py",
   "mimetype": "text/x-python",
   "name": "python",
   "nbconvert_exporter": "python",
   "pygments_lexer": "ipython3",
   "version": "3.11.4"
  }
 },
 "nbformat": 4,
 "nbformat_minor": 2
}
